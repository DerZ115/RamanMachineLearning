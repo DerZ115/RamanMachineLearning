{
 "cells": [
  {
   "cell_type": "code",
   "execution_count": 1,
   "metadata": {},
   "outputs": [],
   "source": [
    "import sys\n",
    "sys.path.append(\"../lib/\")\n",
    "\n",
    "import numpy as np\n",
    "import pandas as pd\n",
    "\n",
    "from sklearn.model_selection import GridSearchCV\n",
    "from sklearn.pipeline import Pipeline\n",
    "from sklearn.preprocessing import Normalizer\n",
    "\n",
    "from sklearn.linear_model import LogisticRegression"
   ]
  },
  {
   "cell_type": "code",
   "execution_count": 2,
   "metadata": {},
   "outputs": [],
   "source": [
    "from raman_lib.preprocessing import SavGolFilter, RangeLimiter, BaselineCorrector, PeakPicker\n",
    "from raman_lib.misc import load_data"
   ]
  },
  {
   "cell_type": "code",
   "execution_count": 3,
   "metadata": {},
   "outputs": [
    {
     "data": {
      "text/html": [
       "<div>\n",
       "<style scoped>\n",
       "    .dataframe tbody tr th:only-of-type {\n",
       "        vertical-align: middle;\n",
       "    }\n",
       "\n",
       "    .dataframe tbody tr th {\n",
       "        vertical-align: top;\n",
       "    }\n",
       "\n",
       "    .dataframe thead th {\n",
       "        text-align: right;\n",
       "    }\n",
       "</style>\n",
       "<table border=\"1\" class=\"dataframe\">\n",
       "  <thead>\n",
       "    <tr style=\"text-align: right;\">\n",
       "      <th></th>\n",
       "      <th>label</th>\n",
       "      <th>440.0</th>\n",
       "      <th>440.5</th>\n",
       "      <th>441.0</th>\n",
       "      <th>441.5</th>\n",
       "      <th>442.0</th>\n",
       "      <th>442.5</th>\n",
       "      <th>443.0</th>\n",
       "      <th>443.5</th>\n",
       "      <th>444.0</th>\n",
       "      <th>...</th>\n",
       "      <th>1805.5</th>\n",
       "      <th>1806.0</th>\n",
       "      <th>1806.5</th>\n",
       "      <th>1807.0</th>\n",
       "      <th>1807.5</th>\n",
       "      <th>1808.0</th>\n",
       "      <th>1808.5</th>\n",
       "      <th>1809.0</th>\n",
       "      <th>1809.5</th>\n",
       "      <th>1810.0</th>\n",
       "    </tr>\n",
       "  </thead>\n",
       "  <tbody>\n",
       "    <tr>\n",
       "      <th>0</th>\n",
       "      <td>Control</td>\n",
       "      <td>9551.334961</td>\n",
       "      <td>9555.827148</td>\n",
       "      <td>9560.325195</td>\n",
       "      <td>9567.156250</td>\n",
       "      <td>9579.791016</td>\n",
       "      <td>9602.325195</td>\n",
       "      <td>9631.974609</td>\n",
       "      <td>9665.241211</td>\n",
       "      <td>9697.399414</td>\n",
       "      <td>...</td>\n",
       "      <td>821.933167</td>\n",
       "      <td>819.547119</td>\n",
       "      <td>815.598145</td>\n",
       "      <td>811.992371</td>\n",
       "      <td>808.245239</td>\n",
       "      <td>804.504272</td>\n",
       "      <td>803.451904</td>\n",
       "      <td>807.057678</td>\n",
       "      <td>813.057251</td>\n",
       "      <td>817.193604</td>\n",
       "    </tr>\n",
       "    <tr>\n",
       "      <th>1</th>\n",
       "      <td>Control</td>\n",
       "      <td>10458.841797</td>\n",
       "      <td>10446.866211</td>\n",
       "      <td>10430.693359</td>\n",
       "      <td>10408.302734</td>\n",
       "      <td>10382.478516</td>\n",
       "      <td>10357.313477</td>\n",
       "      <td>10335.406250</td>\n",
       "      <td>10317.475586</td>\n",
       "      <td>10302.212891</td>\n",
       "      <td>...</td>\n",
       "      <td>1960.335449</td>\n",
       "      <td>1953.519165</td>\n",
       "      <td>1950.050537</td>\n",
       "      <td>1950.620728</td>\n",
       "      <td>1951.223999</td>\n",
       "      <td>1949.279663</td>\n",
       "      <td>1946.670776</td>\n",
       "      <td>1946.825073</td>\n",
       "      <td>1949.477539</td>\n",
       "      <td>1951.279297</td>\n",
       "    </tr>\n",
       "    <tr>\n",
       "      <th>2</th>\n",
       "      <td>Control</td>\n",
       "      <td>2525.415283</td>\n",
       "      <td>2532.400146</td>\n",
       "      <td>2537.476807</td>\n",
       "      <td>2539.295654</td>\n",
       "      <td>2538.952881</td>\n",
       "      <td>2538.192383</td>\n",
       "      <td>2538.431152</td>\n",
       "      <td>2539.968018</td>\n",
       "      <td>2541.993896</td>\n",
       "      <td>...</td>\n",
       "      <td>595.429199</td>\n",
       "      <td>597.700928</td>\n",
       "      <td>599.022888</td>\n",
       "      <td>599.593933</td>\n",
       "      <td>599.178833</td>\n",
       "      <td>597.297607</td>\n",
       "      <td>594.455688</td>\n",
       "      <td>592.088501</td>\n",
       "      <td>591.304260</td>\n",
       "      <td>591.917969</td>\n",
       "    </tr>\n",
       "    <tr>\n",
       "      <th>3</th>\n",
       "      <td>Control</td>\n",
       "      <td>2207.853027</td>\n",
       "      <td>2216.539062</td>\n",
       "      <td>2223.419434</td>\n",
       "      <td>2227.755859</td>\n",
       "      <td>2229.572754</td>\n",
       "      <td>2229.244873</td>\n",
       "      <td>2227.518555</td>\n",
       "      <td>2224.224609</td>\n",
       "      <td>2219.760742</td>\n",
       "      <td>...</td>\n",
       "      <td>1094.972290</td>\n",
       "      <td>1089.802979</td>\n",
       "      <td>1087.647461</td>\n",
       "      <td>1090.088257</td>\n",
       "      <td>1095.169800</td>\n",
       "      <td>1100.701050</td>\n",
       "      <td>1104.530151</td>\n",
       "      <td>1105.415283</td>\n",
       "      <td>1103.453003</td>\n",
       "      <td>1098.966431</td>\n",
       "    </tr>\n",
       "    <tr>\n",
       "      <th>4</th>\n",
       "      <td>Control</td>\n",
       "      <td>2072.619141</td>\n",
       "      <td>2076.901367</td>\n",
       "      <td>2080.495850</td>\n",
       "      <td>2081.872070</td>\n",
       "      <td>2080.406738</td>\n",
       "      <td>2076.706543</td>\n",
       "      <td>2072.312744</td>\n",
       "      <td>2068.184570</td>\n",
       "      <td>2064.828369</td>\n",
       "      <td>...</td>\n",
       "      <td>668.945435</td>\n",
       "      <td>666.156067</td>\n",
       "      <td>667.783997</td>\n",
       "      <td>673.334167</td>\n",
       "      <td>678.374634</td>\n",
       "      <td>678.847778</td>\n",
       "      <td>675.064697</td>\n",
       "      <td>670.153198</td>\n",
       "      <td>667.591064</td>\n",
       "      <td>668.397034</td>\n",
       "    </tr>\n",
       "    <tr>\n",
       "      <th>...</th>\n",
       "      <td>...</td>\n",
       "      <td>...</td>\n",
       "      <td>...</td>\n",
       "      <td>...</td>\n",
       "      <td>...</td>\n",
       "      <td>...</td>\n",
       "      <td>...</td>\n",
       "      <td>...</td>\n",
       "      <td>...</td>\n",
       "      <td>...</td>\n",
       "      <td>...</td>\n",
       "      <td>...</td>\n",
       "      <td>...</td>\n",
       "      <td>...</td>\n",
       "      <td>...</td>\n",
       "      <td>...</td>\n",
       "      <td>...</td>\n",
       "      <td>...</td>\n",
       "      <td>...</td>\n",
       "      <td>...</td>\n",
       "      <td>...</td>\n",
       "    </tr>\n",
       "    <tr>\n",
       "      <th>874</th>\n",
       "      <td>Etoposide</td>\n",
       "      <td>4324.567383</td>\n",
       "      <td>4309.552246</td>\n",
       "      <td>4297.772949</td>\n",
       "      <td>4288.082520</td>\n",
       "      <td>4279.221191</td>\n",
       "      <td>4270.135254</td>\n",
       "      <td>4260.723145</td>\n",
       "      <td>4251.879395</td>\n",
       "      <td>4244.444824</td>\n",
       "      <td>...</td>\n",
       "      <td>1111.780640</td>\n",
       "      <td>1110.168945</td>\n",
       "      <td>1109.513794</td>\n",
       "      <td>1109.591675</td>\n",
       "      <td>1109.890381</td>\n",
       "      <td>1109.257324</td>\n",
       "      <td>1106.616821</td>\n",
       "      <td>1102.607788</td>\n",
       "      <td>1098.908569</td>\n",
       "      <td>1096.416992</td>\n",
       "    </tr>\n",
       "    <tr>\n",
       "      <th>875</th>\n",
       "      <td>Etoposide</td>\n",
       "      <td>11000.471680</td>\n",
       "      <td>10965.001953</td>\n",
       "      <td>10936.359375</td>\n",
       "      <td>10911.935547</td>\n",
       "      <td>10889.791992</td>\n",
       "      <td>10868.546875</td>\n",
       "      <td>10849.276367</td>\n",
       "      <td>10833.564453</td>\n",
       "      <td>10822.385742</td>\n",
       "      <td>...</td>\n",
       "      <td>2335.459961</td>\n",
       "      <td>2331.223877</td>\n",
       "      <td>2323.342285</td>\n",
       "      <td>2316.918213</td>\n",
       "      <td>2318.944580</td>\n",
       "      <td>2326.237061</td>\n",
       "      <td>2332.652832</td>\n",
       "      <td>2333.804688</td>\n",
       "      <td>2330.145508</td>\n",
       "      <td>2325.216309</td>\n",
       "    </tr>\n",
       "    <tr>\n",
       "      <th>876</th>\n",
       "      <td>Etoposide</td>\n",
       "      <td>7073.573730</td>\n",
       "      <td>7059.198730</td>\n",
       "      <td>7041.097168</td>\n",
       "      <td>7021.822266</td>\n",
       "      <td>7003.113770</td>\n",
       "      <td>6986.574707</td>\n",
       "      <td>6974.891113</td>\n",
       "      <td>6968.677246</td>\n",
       "      <td>6967.905762</td>\n",
       "      <td>...</td>\n",
       "      <td>1536.322998</td>\n",
       "      <td>1531.775024</td>\n",
       "      <td>1522.270142</td>\n",
       "      <td>1512.583252</td>\n",
       "      <td>1508.623535</td>\n",
       "      <td>1509.210205</td>\n",
       "      <td>1510.804443</td>\n",
       "      <td>1510.013428</td>\n",
       "      <td>1506.386475</td>\n",
       "      <td>1501.737305</td>\n",
       "    </tr>\n",
       "    <tr>\n",
       "      <th>877</th>\n",
       "      <td>Etoposide</td>\n",
       "      <td>4257.303223</td>\n",
       "      <td>4247.423828</td>\n",
       "      <td>4237.972656</td>\n",
       "      <td>4230.412109</td>\n",
       "      <td>4225.356934</td>\n",
       "      <td>4222.058594</td>\n",
       "      <td>4219.541992</td>\n",
       "      <td>4216.154297</td>\n",
       "      <td>4210.751465</td>\n",
       "      <td>...</td>\n",
       "      <td>1174.385864</td>\n",
       "      <td>1174.004761</td>\n",
       "      <td>1175.262695</td>\n",
       "      <td>1176.037964</td>\n",
       "      <td>1174.351562</td>\n",
       "      <td>1171.097778</td>\n",
       "      <td>1168.076294</td>\n",
       "      <td>1167.142090</td>\n",
       "      <td>1168.812012</td>\n",
       "      <td>1170.863281</td>\n",
       "    </tr>\n",
       "    <tr>\n",
       "      <th>878</th>\n",
       "      <td>Etoposide</td>\n",
       "      <td>4928.298340</td>\n",
       "      <td>4926.875000</td>\n",
       "      <td>4925.975586</td>\n",
       "      <td>4924.105469</td>\n",
       "      <td>4920.037598</td>\n",
       "      <td>4913.887207</td>\n",
       "      <td>4906.350098</td>\n",
       "      <td>4899.500977</td>\n",
       "      <td>4894.914062</td>\n",
       "      <td>...</td>\n",
       "      <td>1489.275391</td>\n",
       "      <td>1485.709595</td>\n",
       "      <td>1486.265991</td>\n",
       "      <td>1489.946411</td>\n",
       "      <td>1494.099365</td>\n",
       "      <td>1495.038086</td>\n",
       "      <td>1490.750488</td>\n",
       "      <td>1483.856323</td>\n",
       "      <td>1478.606689</td>\n",
       "      <td>1476.527466</td>\n",
       "    </tr>\n",
       "  </tbody>\n",
       "</table>\n",
       "<p>879 rows × 2742 columns</p>\n",
       "</div>"
      ],
      "text/plain": [
       "         label         440.0         440.5         441.0         441.5  \\\n",
       "0      Control   9551.334961   9555.827148   9560.325195   9567.156250   \n",
       "1      Control  10458.841797  10446.866211  10430.693359  10408.302734   \n",
       "2      Control   2525.415283   2532.400146   2537.476807   2539.295654   \n",
       "3      Control   2207.853027   2216.539062   2223.419434   2227.755859   \n",
       "4      Control   2072.619141   2076.901367   2080.495850   2081.872070   \n",
       "..         ...           ...           ...           ...           ...   \n",
       "874  Etoposide   4324.567383   4309.552246   4297.772949   4288.082520   \n",
       "875  Etoposide  11000.471680  10965.001953  10936.359375  10911.935547   \n",
       "876  Etoposide   7073.573730   7059.198730   7041.097168   7021.822266   \n",
       "877  Etoposide   4257.303223   4247.423828   4237.972656   4230.412109   \n",
       "878  Etoposide   4928.298340   4926.875000   4925.975586   4924.105469   \n",
       "\n",
       "            442.0         442.5         443.0         443.5         444.0  \\\n",
       "0     9579.791016   9602.325195   9631.974609   9665.241211   9697.399414   \n",
       "1    10382.478516  10357.313477  10335.406250  10317.475586  10302.212891   \n",
       "2     2538.952881   2538.192383   2538.431152   2539.968018   2541.993896   \n",
       "3     2229.572754   2229.244873   2227.518555   2224.224609   2219.760742   \n",
       "4     2080.406738   2076.706543   2072.312744   2068.184570   2064.828369   \n",
       "..            ...           ...           ...           ...           ...   \n",
       "874   4279.221191   4270.135254   4260.723145   4251.879395   4244.444824   \n",
       "875  10889.791992  10868.546875  10849.276367  10833.564453  10822.385742   \n",
       "876   7003.113770   6986.574707   6974.891113   6968.677246   6967.905762   \n",
       "877   4225.356934   4222.058594   4219.541992   4216.154297   4210.751465   \n",
       "878   4920.037598   4913.887207   4906.350098   4899.500977   4894.914062   \n",
       "\n",
       "     ...       1805.5       1806.0       1806.5       1807.0       1807.5  \\\n",
       "0    ...   821.933167   819.547119   815.598145   811.992371   808.245239   \n",
       "1    ...  1960.335449  1953.519165  1950.050537  1950.620728  1951.223999   \n",
       "2    ...   595.429199   597.700928   599.022888   599.593933   599.178833   \n",
       "3    ...  1094.972290  1089.802979  1087.647461  1090.088257  1095.169800   \n",
       "4    ...   668.945435   666.156067   667.783997   673.334167   678.374634   \n",
       "..   ...          ...          ...          ...          ...          ...   \n",
       "874  ...  1111.780640  1110.168945  1109.513794  1109.591675  1109.890381   \n",
       "875  ...  2335.459961  2331.223877  2323.342285  2316.918213  2318.944580   \n",
       "876  ...  1536.322998  1531.775024  1522.270142  1512.583252  1508.623535   \n",
       "877  ...  1174.385864  1174.004761  1175.262695  1176.037964  1174.351562   \n",
       "878  ...  1489.275391  1485.709595  1486.265991  1489.946411  1494.099365   \n",
       "\n",
       "          1808.0       1808.5       1809.0       1809.5       1810.0  \n",
       "0     804.504272   803.451904   807.057678   813.057251   817.193604  \n",
       "1    1949.279663  1946.670776  1946.825073  1949.477539  1951.279297  \n",
       "2     597.297607   594.455688   592.088501   591.304260   591.917969  \n",
       "3    1100.701050  1104.530151  1105.415283  1103.453003  1098.966431  \n",
       "4     678.847778   675.064697   670.153198   667.591064   668.397034  \n",
       "..           ...          ...          ...          ...          ...  \n",
       "874  1109.257324  1106.616821  1102.607788  1098.908569  1096.416992  \n",
       "875  2326.237061  2332.652832  2333.804688  2330.145508  2325.216309  \n",
       "876  1509.210205  1510.804443  1510.013428  1506.386475  1501.737305  \n",
       "877  1171.097778  1168.076294  1167.142090  1168.812012  1170.863281  \n",
       "878  1495.038086  1490.750488  1483.856323  1478.606689  1476.527466  \n",
       "\n",
       "[879 rows x 2742 columns]"
      ]
     },
     "execution_count": 3,
     "metadata": {},
     "output_type": "execute_result"
    }
   ],
   "source": [
    "data = load_data(\"../data/L_540_2022_C_E.csv\")\n",
    "data"
   ]
  },
  {
   "cell_type": "code",
   "execution_count": 4,
   "metadata": {},
   "outputs": [],
   "source": [
    "X = data.loc[:, data.columns != \"label\"]\n",
    "wns = np.asarray(X.columns.astype(float))\n",
    "X = np.asarray(X)\n",
    "y = np.asarray(data.label)\n",
    "y, y_key = pd.factorize(y)"
   ]
  },
  {
   "cell_type": "code",
   "execution_count": 5,
   "metadata": {},
   "outputs": [],
   "source": [
    "X_orig = X.copy()\n",
    "X = BaselineCorrector().fit_transform(X)"
   ]
  },
  {
   "cell_type": "code",
   "execution_count": 16,
   "metadata": {},
   "outputs": [],
   "source": [
    "from scipy.signal import savgol_filter, argrelmax"
   ]
  },
  {
   "cell_type": "code",
   "execution_count": 89,
   "metadata": {},
   "outputs": [],
   "source": [
    "X_sg = savgol_filter(X, 35, polyorder=2, deriv=1)"
   ]
  },
  {
   "cell_type": "code",
   "execution_count": 90,
   "metadata": {},
   "outputs": [],
   "source": [
    "import matplotlib.pyplot as plt"
   ]
  },
  {
   "cell_type": "code",
   "execution_count": 91,
   "metadata": {},
   "outputs": [
    {
     "data": {
      "text/plain": [
       "[<matplotlib.lines.Line2D at 0x7f1917df0a90>]"
      ]
     },
     "execution_count": 91,
     "metadata": {},
     "output_type": "execute_result"
    },
    {
     "data": {
      "image/png": "[encoded data removed]",
      "text/plain": [
       "<Figure size 432x288 with 1 Axes>"
      ]
     },
     "metadata": {
      "needs_background": "light"
     },
     "output_type": "display_data"
    }
   ],
   "source": [
    "plt.plot(wns, X[0])"
   ]
  },
  {
   "cell_type": "code",
   "execution_count": 92,
   "metadata": {},
   "outputs": [
    {
     "data": {
      "text/plain": [
       "[<matplotlib.lines.Line2D at 0x7f1917e47f10>]"
      ]
     },
     "execution_count": 92,
     "metadata": {},
     "output_type": "execute_result"
    },
    {
     "data": {
      "image/png": "[encoded data removed]",
      "text/plain": [
       "<Figure size 432x288 with 1 Axes>"
      ]
     },
     "metadata": {
      "needs_background": "light"
     },
     "output_type": "display_data"
    }
   ],
   "source": [
    "plt.plot(wns, X_sg[0])"
   ]
  },
  {
   "cell_type": "code",
   "execution_count": 93,
   "metadata": {},
   "outputs": [],
   "source": [
    "X_test = X[0]\n",
    "X_sg_test = X_sg[0]"
   ]
  },
  {
   "cell_type": "code",
   "execution_count": 94,
   "metadata": {},
   "outputs": [],
   "source": [
    "sg1_max = argrelmax(X_sg_test)[0]\n",
    "\n",
    "sg1_max = [i for i in sg1_max if X_sg_test[i] > 5]\n",
    "\n",
    "peaks = np.where(np.diff(np.sign(X_sg_test)))[0]"
   ]
  },
  {
   "cell_type": "code",
   "execution_count": 95,
   "metadata": {},
   "outputs": [
    {
     "data": {
      "text/plain": [
       "array([  48,  107,  181,  242,  402,  402,  536,  626,  695,  762,  934,\n",
       "        985, 1115, 1345, 1404, 1521, 1624, 1701, 1810, 1889, 2019, 2073,\n",
       "       2230, 2230, 2230, 2310, 2380])"
      ]
     },
     "execution_count": 95,
     "metadata": {},
     "output_type": "execute_result"
    }
   ],
   "source": [
    "peaks_tmp = peaks[np.searchsorted(peaks, sg1_max)]\n",
    "\n",
    "peaks_tmp\n",
    "\n"
   ]
  },
  {
   "cell_type": "code",
   "execution_count": 96,
   "metadata": {},
   "outputs": [
    {
     "data": {
      "text/plain": [
       "<matplotlib.collections.LineCollection at 0x7f1917c90850>"
      ]
     },
     "execution_count": 96,
     "metadata": {},
     "output_type": "execute_result"
    },
    {
     "data": {
      "image/png": "[encoded data removed]",
      "text/plain": [
       "<Figure size 432x288 with 1 Axes>"
      ]
     },
     "metadata": {
      "needs_background": "light"
     },
     "output_type": "display_data"
    }
   ],
   "source": [
    "plt.plot(wns, X_test)\n",
    "plt.vlines(wns[peaks_tmp], ymin=0, ymax=5000, color=\"red\", linewidth=1)"
   ]
  },
  {
   "cell_type": "code",
   "execution_count": null,
   "metadata": {},
   "outputs": [],
   "source": []
  }
 ],
 "metadata": {
  "kernelspec": {
   "display_name": "Python 3.10.5 ('raman_ml')",
   "language": "python",
   "name": "python3"
  },
  "language_info": {
   "codemirror_mode": {
    "name": "ipython",
    "version": 3
   },
   "file_extension": ".py",
   "mimetype": "text/x-python",
   "name": "python",
   "nbconvert_exporter": "python",
   "pygments_lexer": "ipython3",
   "version": "3.10.5"
  },
  "orig_nbformat": 4,
  "vscode": {
   "interpreter": {
    "hash": "a6343514cd259acb85328b5cefdb71744806c5b05c5d0873e700e44a05afe544"
   }
  }
 },
 "nbformat": 4,
 "nbformat_minor": 2
}
