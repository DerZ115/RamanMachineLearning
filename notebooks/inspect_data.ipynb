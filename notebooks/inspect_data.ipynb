{
 "cells": [
  {
   "cell_type": "code",
   "execution_count": 1,
   "metadata": {},
   "source": [
    "import sys\n",
    "sys.path.append(\"../lib/\")\n",
    "import os\n",
    "import numpy as np\n",
    "import pandas as pd\n",
    "from natsort import natsorted, ns\n",
    "from pathlib import Path\n",
    "\n",
    "import matplotlib.pyplot as plt\n",
    "\n",
    "from raman_lib.opus_converter import convert_opus\n",
    "from raman_lib.misc import load_data\n",
    "from raman_lib.visualization import plot_spectra_peaks"
   ],
   "outputs": []
  },
  {
   "cell_type": "markdown",
   "metadata": {},
   "source": [
    "## Setup"
   ]
  },
  {
   "cell_type": "code",
   "execution_count": 2,
   "metadata": {},
   "source": [
    "dataset = \"L_540_2022_C_E\""
   ],
   "outputs": []
  },
  {
   "cell_type": "markdown",
   "metadata": {},
   "source": [
    "## Before Preprocessing (Raw Data)"
   ]
  },
  {
   "cell_type": "code",
   "execution_count": 3,
   "metadata": {},
   "source": [
    "data = pd.read_csv(f\"../data/{dataset}.csv\")\n",
    "\n",
    "X = data.loc[:, ~data.columns.isin([\"label\", \"file\"])]\n",
    "wns = X.columns.astype(float)"
   ],
   "outputs": []
  },
  {
   "cell_type": "code",
   "execution_count": 4,
   "metadata": {},
   "source": [
    "wns"
   ],
   "outputs": []
  },
  {
   "cell_type": "code",
   "execution_count": 4,
   "metadata": {},
   "source": [
    "fig, ax = plt.subplots(figsize=(12, 6))\n",
    "for label, group in X.groupby(data.label):\n",
    "    ax.plot(wns, group.median(axis=0), label=label)\n",
    "    ax.fill_between(wns, group.quantile(q=0.25, axis=0), group.quantile(q=0.75, axis=0), alpha=0.5)\n",
    "ax.set_xlabel(\"Wavenumber ($\\mathregular{cm^{-1}}$)\")\n",
    "ax.set_ylabel(\"Intensity (-)\")\n",
    "ax.set_xmargin(0)\n",
    "ax.grid()\n",
    "ax.legend()"
   ],
   "outputs": []
  },
  {
   "cell_type": "markdown",
   "metadata": {},
   "source": [
    "## After Preprocessing"
   ]
  },
  {
   "cell_type": "code",
   "execution_count": 5,
   "metadata": {},
   "source": [
    "data = pd.read_csv(f\"../results/{dataset}/{dataset}_preprocessed.csv\")\n",
    "\n",
    "X = data.loc[:, ~data.columns.isin([\"label\", \"file\"])]\n",
    "wns = X.columns.astype(float)"
   ],
   "outputs": []
  },
  {
   "cell_type": "code",
   "execution_count": 6,
   "metadata": {},
   "source": [
    "fig, ax = plt.subplots(figsize=(8, 6))\n",
    "for label, group in X.groupby(data.label):\n",
    "    ax.plot(wns, group.median(axis=0), label=label)\n",
    "    ax.fill_between(wns, group.quantile(q=0.25, axis=0), group.quantile(q=0.75, axis=0), alpha=0.5)\n",
    "ax.set_xlabel(\"Wavenumber ($\\mathregular{cm^{-1}}$)\")\n",
    "ax.set_ylabel(\"Intensity (-)\")\n",
    "ax.set_xmargin(0)\n",
    "ax.grid()\n",
    "ax.legend()"
   ],
   "outputs": []
  },
  {
   "cell_type": "code",
   "execution_count": null,
   "metadata": {},
   "source": [],
   "outputs": []
  },
  {
   "cell_type": "code",
   "execution_count": null,
   "metadata": {},
   "source": [],
   "outputs": []
  }
 ],
 "metadata": {
  "kernelspec": {
   "display_name": "Python 3 (ipykernel)",
   "language": "python",
   "name": "python3"
  },
  "language_info": {
   "codemirror_mode": {
    "name": "ipython",
    "version": 3
   },
   "file_extension": ".py",
   "mimetype": "text/x-python",
   "name": "python",
   "nbconvert_exporter": "python",
   "pygments_lexer": "ipython3",
   "version": "3.10.6"
  },
  "vscode": {
   "interpreter": {
    "hash": "a6343514cd259acb85328b5cefdb71744806c5b05c5d0873e700e44a05afe544"
   }
  }
 },
 "nbformat": 4,
 "nbformat_minor": 4
}
