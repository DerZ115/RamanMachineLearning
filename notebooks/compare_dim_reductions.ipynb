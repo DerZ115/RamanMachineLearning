{
 "cells": [
  {
   "cell_type": "code",
   "execution_count": 2,
   "metadata": {},
   "outputs": [],
   "source": [
    "import numpy as np\n",
    "import pandas as pd\n",
    "import matplotlib.pyplot as plt"
   ]
  },
  {
   "cell_type": "code",
   "execution_count": 3,
   "metadata": {},
   "outputs": [],
   "source": [
    "dataset = \"L_540_2022_C_E\""
   ]
  },
  {
   "cell_type": "code",
   "execution_count": 4,
   "metadata": {},
   "outputs": [
    {
     "data": {
      "text/html": [
       "<div>\n",
       "<style scoped>\n",
       "    .dataframe tbody tr th:only-of-type {\n",
       "        vertical-align: middle;\n",
       "    }\n",
       "\n",
       "    .dataframe tbody tr th {\n",
       "        vertical-align: top;\n",
       "    }\n",
       "\n",
       "    .dataframe thead th {\n",
       "        text-align: right;\n",
       "    }\n",
       "</style>\n",
       "<table border=\"1\" class=\"dataframe\">\n",
       "  <thead>\n",
       "    <tr style=\"text-align: right;\">\n",
       "      <th></th>\n",
       "      <th>train_accuracy</th>\n",
       "      <th>test_accuracy</th>\n",
       "      <th>train_f1</th>\n",
       "      <th>test_f1</th>\n",
       "      <th>train_roc_auc</th>\n",
       "      <th>test_roc_auc</th>\n",
       "      <th>fit_time</th>\n",
       "      <th>predict_time</th>\n",
       "      <th>p_value</th>\n",
       "    </tr>\n",
       "  </thead>\n",
       "  <tbody>\n",
       "    <tr>\n",
       "      <th>0</th>\n",
       "      <td>1.0</td>\n",
       "      <td>0.678333</td>\n",
       "      <td>1.0</td>\n",
       "      <td>0.682174</td>\n",
       "      <td>1.0</td>\n",
       "      <td>0.724000</td>\n",
       "      <td>0.237614</td>\n",
       "      <td>0.002216</td>\n",
       "      <td>1.847142e-09</td>\n",
       "    </tr>\n",
       "    <tr>\n",
       "      <th>1</th>\n",
       "      <td>1.0</td>\n",
       "      <td>0.700000</td>\n",
       "      <td>1.0</td>\n",
       "      <td>0.706109</td>\n",
       "      <td>1.0</td>\n",
       "      <td>0.740444</td>\n",
       "      <td>0.246742</td>\n",
       "      <td>0.002169</td>\n",
       "      <td>1.616364e-11</td>\n",
       "    </tr>\n",
       "  </tbody>\n",
       "</table>\n",
       "</div>"
      ],
      "text/plain": [
       "   train_accuracy  test_accuracy  train_f1   test_f1  train_roc_auc  \\\n",
       "0             1.0       0.678333       1.0  0.682174            1.0   \n",
       "1             1.0       0.700000       1.0  0.706109            1.0   \n",
       "\n",
       "   test_roc_auc  fit_time  predict_time       p_value  \n",
       "0      0.724000  0.237614      0.002216  1.847142e-09  \n",
       "1      0.740444  0.246742      0.002169  1.616364e-11  "
      ]
     },
     "execution_count": 4,
     "metadata": {},
     "output_type": "execute_result"
    }
   ],
   "source": [
    "pd.read_csv(\"../results/L_540_2022_C_E/lda_dim_reduction/lda/ct_results.csv\")"
   ]
  },
  {
   "cell_type": "code",
   "execution_count": 5,
   "metadata": {},
   "outputs": [
    {
     "data": {
      "text/html": [
       "<div>\n",
       "<style scoped>\n",
       "    .dataframe tbody tr th:only-of-type {\n",
       "        vertical-align: middle;\n",
       "    }\n",
       "\n",
       "    .dataframe tbody tr th {\n",
       "        vertical-align: top;\n",
       "    }\n",
       "\n",
       "    .dataframe thead th {\n",
       "        text-align: right;\n",
       "    }\n",
       "</style>\n",
       "<table border=\"1\" class=\"dataframe\">\n",
       "  <thead>\n",
       "    <tr style=\"text-align: right;\">\n",
       "      <th></th>\n",
       "      <th>-71.83219529067125</th>\n",
       "      <th>-14.746885497044994</th>\n",
       "      <th>17.279371267485836</th>\n",
       "      <th>28.425399217679647</th>\n",
       "      <th>24.001192950631832</th>\n",
       "      <th>9.199018639132898</th>\n",
       "      <th>-10.887697124339487</th>\n",
       "      <th>-31.193178089949765</th>\n",
       "      <th>-62.94067151876999</th>\n",
       "      <th>-68.26507909558585</th>\n",
       "      <th>...</th>\n",
       "      <th>681.0645812172885</th>\n",
       "      <th>-151.30506454625223</th>\n",
       "      <th>-799.2229804237226</th>\n",
       "      <th>-551.6319390786042</th>\n",
       "      <th>-262.56618391249833</th>\n",
       "      <th>5.857072817480065</th>\n",
       "      <th>203.6963850824511</th>\n",
       "      <th>282.8426559703059</th>\n",
       "      <th>188.8226434737908</th>\n",
       "      <th>-97.34660014623697</th>\n",
       "    </tr>\n",
       "  </thead>\n",
       "  <tbody>\n",
       "    <tr>\n",
       "      <th>0</th>\n",
       "      <td>-176.705033</td>\n",
       "      <td>4.681345</td>\n",
       "      <td>101.563529</td>\n",
       "      <td>128.575545</td>\n",
       "      <td>103.44265</td>\n",
       "      <td>43.501637</td>\n",
       "      <td>-33.916161</td>\n",
       "      <td>-110.987562</td>\n",
       "      <td>-164.746051</td>\n",
       "      <td>-160.50046</td>\n",
       "      <td>...</td>\n",
       "      <td>177.809771</td>\n",
       "      <td>-42.603079</td>\n",
       "      <td>-56.62794</td>\n",
       "      <td>-43.303771</td>\n",
       "      <td>-26.370155</td>\n",
       "      <td>-9.968675</td>\n",
       "      <td>2.377961</td>\n",
       "      <td>7.260151</td>\n",
       "      <td>1.555695</td>\n",
       "      <td>-13.160168</td>\n",
       "    </tr>\n",
       "  </tbody>\n",
       "</table>\n",
       "<p>1 rows × 2501 columns</p>\n",
       "</div>"
      ],
      "text/plain": [
       "   -71.83219529067125  -14.746885497044994  17.279371267485836  \\\n",
       "0         -176.705033             4.681345          101.563529   \n",
       "\n",
       "   28.425399217679647  24.001192950631832  9.199018639132898  \\\n",
       "0          128.575545           103.44265          43.501637   \n",
       "\n",
       "   -10.887697124339487  -31.193178089949765  -62.94067151876999  \\\n",
       "0           -33.916161          -110.987562         -164.746051   \n",
       "\n",
       "   -68.26507909558585  ...  681.0645812172885  -151.30506454625223  \\\n",
       "0          -160.50046  ...         177.809771           -42.603079   \n",
       "\n",
       "   -799.2229804237226  -551.6319390786042  -262.56618391249833  \\\n",
       "0           -56.62794          -43.303771           -26.370155   \n",
       "\n",
       "   5.857072817480065  203.6963850824511  282.8426559703059  188.8226434737908  \\\n",
       "0          -9.968675           2.377961           7.260151           1.555695   \n",
       "\n",
       "   -97.34660014623697  \n",
       "0          -13.160168  \n",
       "\n",
       "[1 rows x 2501 columns]"
      ]
     },
     "execution_count": 5,
     "metadata": {},
     "output_type": "execute_result"
    }
   ],
   "source": [
    "pd.read_csv(\"../results/L_540_2022_C_E/lda_dim_reduction/lda/coefficients.csv\")"
   ]
  },
  {
   "cell_type": "code",
   "execution_count": null,
   "metadata": {},
   "outputs": [],
   "source": []
  }
 ],
 "metadata": {
  "kernelspec": {
   "display_name": "Python 3.10.6 ('raman')",
   "language": "python",
   "name": "python3"
  },
  "language_info": {
   "codemirror_mode": {
    "name": "ipython",
    "version": 3
   },
   "file_extension": ".py",
   "mimetype": "text/x-python",
   "name": "python",
   "nbconvert_exporter": "python",
   "pygments_lexer": "ipython3",
   "version": "3.10.6"
  },
  "orig_nbformat": 4,
  "vscode": {
   "interpreter": {
    "hash": "5dc5e894ad223fa24e0e18d9e11423ac9b52bd54a71f17755f05e3e04bdebdd7"
   }
  }
 },
 "nbformat": 4,
 "nbformat_minor": 2
}
