{
 "cells": [
  {
   "cell_type": "code",
   "execution_count": 1,
   "metadata": {},
   "source": [
    "import sys\n",
    "sys.path.append(\"../lib/\")\n",
    "import os\n",
    "import numpy as np\n",
    "import pandas as pd\n",
    "import matplotlib.pyplot as plt\n",
    "\n",
    "from raman_lib.spectra_scoring import score_sort_spectra\n",
    "from raman_lib.misc import load_data\n",
    "from raman_lib.visualization import plot_spectra_peaks\n",
    "from raman_lib.preprocessing import RangeLimiter, BaselineCorrector"
   ],
   "outputs": []
  },
  {
   "cell_type": "code",
   "execution_count": 10,
   "metadata": {},
   "source": [
    "path = \"../data/L_540_2022_C_E.csv\"\n",
    "\n",
    "# Spectral range to analyze\n",
    "# Use 'None' to use the whole range'\n",
    "wn_min = None\n",
    "wn_max = None\n",
    "\n",
    "# QC settings - Choose either A or B and set the other to 'None'\n",
    "# A)\n",
    "n = None # How many spectra (per class) to keep (exactly this number - or less \n",
    "         # if a class does not contain enough spectra)\n",
    "         \n",
    "# B)\n",
    "score_min = 1000 # Minimum quality score that a spectrum must have to be kept.\n",
    "n_min = 0 # Number of spectra that will be kept per class regardless of the score\n",
    "\n",
    "# Window size for the Savitzky-Golay-Filter. Higher means stronger smoothing and less peaks found\n",
    "sg_window = 35\n",
    "\n",
    "# Threshold for the derivative. Higher means less peaks found.\n",
    "threshold = 0.001\n",
    "\n",
    "# Minimum height a peak must have to be detected\n",
    "min_height = 50\n",
    "\n",
    "# Plot baseline corrected (False) or raw spectra (True)\n",
    "plot_raw = True"
   ],
   "outputs": []
  },
  {
   "cell_type": "code",
   "execution_count": 11,
   "metadata": {},
   "source": [
    "data = pd.read_csv(path)\n",
    "\n",
    "print(\"Number of spectra per class:\")\n",
    "print(data.label.value_counts())"
   ],
   "outputs": []
  },
  {
   "cell_type": "code",
   "execution_count": 12,
   "metadata": {},
   "source": [
    "data_new, deriv, score_dict = score_sort_spectra(data, \n",
    "                                                 n=n,\n",
    "                                                 min_score=score_min, \n",
    "                                                 min_n=n_min,\n",
    "                                                 limits=(wn_min, wn_max), \n",
    "                                                 sg_window=sg_window, \n",
    "                                                 threshold=threshold, \n",
    "                                                 min_height=min_height,\n",
    "                                                 detailed=True)\n",
    "\n",
    "print()\n",
    "print(\"====================================\")\n",
    "print()\n",
    "print(\"Number of spectra per class (after QC):\")\n",
    "print(data_new.label.value_counts())"
   ],
   "outputs": []
  },
  {
   "cell_type": "code",
   "execution_count": 13,
   "metadata": {},
   "source": [
    "wns = data.drop(columns=[\"label\", \"file\"]).columns.astype(\"float\")\n",
    "if plot_raw:\n",
    "    data_plot = data.drop(columns=[\"label\", \"file\"])\n",
    "else:\n",
    "    bl = BaselineCorrector()\n",
    "    data_plot = bl.fit_transform(data.drop(columns=[\"label\", \"file\"]))\n",
    "    data_plot = pd.DataFrame(data_plot, columns=wns)\n",
    "\n",
    "rl = RangeLimiter(lim=(wn_min, wn_max), \n",
    "                  reference=wns)\n",
    "data_plot = rl.fit_transform(data_plot)\n",
    "wns_plot = np.asarray(data_plot.columns.astype(\"float\"))"
   ],
   "outputs": []
  },
  {
   "cell_type": "code",
   "execution_count": 14,
   "metadata": {},
   "source": [
    "%matplotlib widget\n",
    "plot_spectra_peaks(wns_plot, \n",
    "                   data_plot, \n",
    "                   deriv,\n",
    "                   score_dict[\"peak_pos\"],\n",
    "                   score_dict[\"total_scores\"])"
   ],
   "outputs": []
  },
  {
   "cell_type": "code",
   "execution_count": null,
   "metadata": {},
   "source": [],
   "outputs": []
  }
 ],
 "metadata": {
  "kernelspec": {
   "display_name": "Python 3 (ipykernel)",
   "language": "python",
   "name": "python3"
  },
  "language_info": {
   "codemirror_mode": {
    "name": "ipython",
    "version": 3
   },
   "file_extension": ".py",
   "mimetype": "text/x-python",
   "name": "python",
   "nbconvert_exporter": "python",
   "pygments_lexer": "ipython3",
   "version": "3.10.6"
  },
  "vscode": {
   "interpreter": {
    "hash": "a6343514cd259acb85328b5cefdb71744806c5b05c5d0873e700e44a05afe544"
   }
  }
 },
 "nbformat": 4,
 "nbformat_minor": 4
}
